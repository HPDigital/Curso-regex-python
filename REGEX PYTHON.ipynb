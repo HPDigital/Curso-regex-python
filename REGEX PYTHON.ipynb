{
 "cells": [
  {
   "cell_type": "code",
   "execution_count": 1,
   "id": "11e7306f",
   "metadata": {},
   "outputs": [],
   "source": [
    "import re"
   ]
  },
  {
   "cell_type": "markdown",
   "id": "d5e4bb3d",
   "metadata": {},
   "source": [
    "# search()"
   ]
  },
  {
   "cell_type": "code",
   "execution_count": 2,
   "id": "f4b854e5",
   "metadata": {},
   "outputs": [
    {
     "name": "stdout",
     "output_type": "stream",
     "text": [
      "00-591-70352310\n"
     ]
    }
   ],
   "source": [
    "texto=\"El numero de telefono es 00-591-7070000 y tambien es 00-591-70352310\"\n",
    "patron = re.compile(r\"\\d\\d-\\d\\d\\d-\\d\\d\\d\\d\\d\\d\\d\\d\")\n",
    "numero=patron.search(texto) # search solo encuentra la primera coincidencia\n",
    "print(numero.group())"
   ]
  },
  {
   "cell_type": "markdown",
   "id": "49321c53",
   "metadata": {},
   "source": [
    "# findall()"
   ]
  },
  {
   "cell_type": "code",
   "execution_count": 3,
   "id": "5f8c95d3",
   "metadata": {},
   "outputs": [
    {
     "name": "stdout",
     "output_type": "stream",
     "text": [
      "['00-591-70352543', '00-591-70562345']\n"
     ]
    }
   ],
   "source": [
    "texto=\"El numero de telefono es 00-591-70352543333 y tambien es 00-591-705623450\"\n",
    "patron = re.compile(r\"\\d\\d-\\d\\d\\d-\\d\\d\\d\\d\\d\\d\\d\\d\")\n",
    "numero=patron.findall(texto) # findall sirve para encontrar a todas las coincidencias \n",
    "print(numero) # lass entrega en forma de lista"
   ]
  },
  {
   "cell_type": "markdown",
   "id": "bdd9d54e",
   "metadata": {},
   "source": [
    "# group()"
   ]
  },
  {
   "cell_type": "code",
   "execution_count": 4,
   "id": "903078b4",
   "metadata": {},
   "outputs": [
    {
     "name": "stdout",
     "output_type": "stream",
     "text": [
      "591\n"
     ]
    }
   ],
   "source": [
    "texto=\"El numero de telefono es 00-591-70744433927332 y tambien es 00-591-703455350610\"\n",
    "patron = re.compile(r\"(\\d\\d)-(\\d\\d\\d)-(\\d\\d\\d\\d\\d\\d\\d\\d)\") #Los parentecis establecen grupos\n",
    "numero=patron.search(texto) \n",
    "print(numero.group(2)) #entrega el grupo seleccionado entre los parentecis"
   ]
  },
  {
   "cell_type": "code",
   "execution_count": 5,
   "id": "50a0081b",
   "metadata": {},
   "outputs": [
    {
     "name": "stdout",
     "output_type": "stream",
     "text": [
      "['591']\n"
     ]
    }
   ],
   "source": [
    "texto=\"El numero de telefono es 00-591-73444492732 y tambien es 00222-3444551-7034433550610\"\n",
    "patron = re.compile(r\"(\\d\\d)-(\\d\\d\\d)-(\\d\\d\\d\\d\\d\\d\\d\\d)\")\n",
    "numero=patron.findall(texto) # entrega lista de tuplas\n",
    "print([numero[i][1] for i in range(len(numero))])"
   ]
  },
  {
   "cell_type": "markdown",
   "id": "ea9b034c",
   "metadata": {},
   "source": [
    "# OR"
   ]
  },
  {
   "cell_type": "code",
   "execution_count": 6,
   "id": "eeea8fa2",
   "metadata": {},
   "outputs": [
    {
     "name": "stdout",
     "output_type": "stream",
     "text": [
      "batball\n"
     ]
    }
   ],
   "source": [
    "texto=\"El es batball\"\n",
    "patron = re.compile(r\"bat(man|ball|san)\") # El patron de busqueda se establece como= batman OR batball OR batsan\n",
    "numero=patron.search(texto) \n",
    "print(numero.group()) "
   ]
  },
  {
   "cell_type": "markdown",
   "id": "f35fb956",
   "metadata": {},
   "source": [
    "# El caracter \" ? \" -> signfica 0 o 1 apariciones"
   ]
  },
  {
   "cell_type": "code",
   "execution_count": 7,
   "id": "15a0d5ce",
   "metadata": {},
   "outputs": [
    {
     "name": "stdout",
     "output_type": "stream",
     "text": [
      "batman\n"
     ]
    }
   ],
   "source": [
    "texto=\"El es batman\"\n",
    "patron = re.compile(r\"bat(wo)?man\") # aqui indicamos al patron que WO puede aparecer cero o una veces\n",
    "numero=patron.search(texto) \n",
    "print(numero.group()) "
   ]
  },
  {
   "cell_type": "code",
   "execution_count": 8,
   "id": "b0861f48",
   "metadata": {},
   "outputs": [
    {
     "name": "stdout",
     "output_type": "stream",
     "text": [
      "batwoman\n"
     ]
    }
   ],
   "source": [
    "texto=\"El es batwoman\"\n",
    "patron = re.compile(r\"bat(wo)?man\") \n",
    "numero=patron.search(texto) \n",
    "print(numero.group()) "
   ]
  },
  {
   "cell_type": "markdown",
   "id": "2f81a6b6",
   "metadata": {},
   "source": [
    "# El caracter \" * \"-> significa que puede aparecer cero o mas veces"
   ]
  },
  {
   "cell_type": "code",
   "execution_count": 9,
   "id": "2a2908f6",
   "metadata": {},
   "outputs": [
    {
     "name": "stdout",
     "output_type": "stream",
     "text": [
      "batwowowowoman\n"
     ]
    }
   ],
   "source": [
    "texto=\"El es batwowowowoman\"\n",
    "patron = re.compile(r\"bat(wo)*man\") # aqui indicamos al patron que WO puede aparecer de cero a muchas veces\n",
    "numero=patron.search(texto) \n",
    "print(numero.group()) "
   ]
  },
  {
   "cell_type": "markdown",
   "id": "b7d58abb",
   "metadata": {},
   "source": [
    "# El caracter \" + \"-> significa que puede aparecer una o mas veces"
   ]
  },
  {
   "cell_type": "code",
   "execution_count": 10,
   "id": "7348dc42",
   "metadata": {},
   "outputs": [
    {
     "name": "stdout",
     "output_type": "stream",
     "text": [
      "batwowowowoman\n"
     ]
    }
   ],
   "source": [
    "texto=\"El es batwowowowoman\"\n",
    "patron = re.compile(r\"bat(wo)+man\") # aqui indicamos al patron que WO puede aparecer de una a muchas veces\n",
    "numero=patron.search(texto) \n",
    "print(numero.group())"
   ]
  },
  {
   "cell_type": "markdown",
   "id": "8df5930a",
   "metadata": {},
   "source": [
    "# {1,5} -> Significa que se reptira entre una y cinco veces"
   ]
  },
  {
   "cell_type": "code",
   "execution_count": 11,
   "id": "657decdf",
   "metadata": {},
   "outputs": [
    {
     "name": "stdout",
     "output_type": "stream",
     "text": [
      "batwowowowowoman\n"
     ]
    }
   ],
   "source": [
    "texto=\"El es batwowowowowoman\"\n",
    "patron = re.compile(r\"bat(wo){1,5}man\") # aqui indicamos al patron que WO puede aparecer entre una hasta cinco veces\n",
    "numero=patron.search(texto) \n",
    "print(numero.group()) "
   ]
  },
  {
   "cell_type": "markdown",
   "id": "d1a30742",
   "metadata": {},
   "source": [
    "# {1,} -> Significa de 1 hasta el maximo"
   ]
  },
  {
   "cell_type": "code",
   "execution_count": 12,
   "id": "8e8953d0",
   "metadata": {},
   "outputs": [
    {
     "name": "stdout",
     "output_type": "stream",
     "text": [
      "batwowowowowoman\n"
     ]
    }
   ],
   "source": [
    "texto=\"El es batwowowowowoman\"\n",
    "patron = re.compile(r\"bat(wo){1,}man\") # aqui indicamos al patron que WO puede aparecer entre una hasta cinco veces\n",
    "numero=patron.search(texto) \n",
    "print(numero.group()) "
   ]
  },
  {
   "cell_type": "markdown",
   "metadata": {},
   "source": [
    "# {,8}-> Significa desde cualquier valor hasta maximo 8"
   ]
  },
  {
   "cell_type": "code",
   "execution_count": 13,
   "id": "68a644a3",
   "metadata": {},
   "outputs": [
    {
     "name": "stdout",
     "output_type": "stream",
     "text": [
      "batwowowowowoman\n"
     ]
    }
   ],
   "source": [
    "texto=\"El es batwowowowowoman\"\n",
    "patron = re.compile(r\"bat(wo){,5}man\") # aqui indicamos al patron que WO puede aparecer entre una hasta cinco veces\n",
    "numero=patron.search(texto) \n",
    "print(numero.group())"
   ]
  },
  {
   "cell_type": "markdown",
   "id": "e682f85b",
   "metadata": {},
   "source": [
    "# Greedy matching"
   ]
  },
  {
   "cell_type": "code",
   "execution_count": 14,
   "id": "e20088f5",
   "metadata": {},
   "outputs": [
    {
     "name": "stdout",
     "output_type": "stream",
     "text": [
      "['70345679', '234572', '70350', '99999999']\n"
     ]
    }
   ],
   "source": [
    "#(\\d{5,8}) --> Significa que buscará números que esten tengan entre 5 y 8 digitos ( si tienen mas de 8 cortara al 8avo digito)\n",
    "texto=\"El numero de telefono es 70345679234572 y tambien es 70350 y tambien es 9999999999\"\n",
    "patron = re.compile(r\"\\d{5,8}\")\n",
    "numero=patron.findall(texto) \n",
    "print(numero)"
   ]
  },
  {
   "cell_type": "markdown",
   "id": "862d11de",
   "metadata": {},
   "source": [
    "# Non greedy matching"
   ]
  },
  {
   "cell_type": "code",
   "execution_count": 15,
   "id": "44c0cdca",
   "metadata": {},
   "outputs": [
    {
     "name": "stdout",
     "output_type": "stream",
     "text": [
      "['70345', '56677', '70350', '99999', '99999']\n"
     ]
    }
   ],
   "source": [
    "#(\\d{5,8}?) --> Significa que buscará números que esten tengan entre 5 y 8 digitos () (Si tienen mas de 5 digitos cortara al 5to digito)\n",
    "texto=\"El numero de telefono es 703455667732 y tambien es 70350 y tambien es 9999999999\"\n",
    "patron = re.compile(r\"\\d{5,8}?\")\n",
    "numero=patron.findall(texto) \n",
    "print(numero) # el resultado tiene 4 valores ya que 999999999 tiene 10 digitos  por lo cual es cosrtado en dos numeros de 5 digitos"
   ]
  },
  {
   "cell_type": "code",
   "execution_count": 16,
   "id": "ba0ce3de",
   "metadata": {},
   "outputs": [
    {
     "name": "stdout",
     "output_type": "stream",
     "text": [
      "['703456', '555532', '999999']\n"
     ]
    }
   ],
   "source": [
    "#(\\d{6,8}?) --> Significa que buscará números que esten tengan entre 5 y 8 digitos () (Si tienen mas de 5 digitos cortara al 5to digito)\n",
    "texto=\"El numero de telefono es 703456555532 y tambien es 70350 y tambien es 9999999999\"\n",
    "patron = re.compile(r\"\\d{6,8}?\")\n",
    "numero=patron.findall(texto) \n",
    "print(numero)"
   ]
  },
  {
   "cell_type": "markdown",
   "id": "3a5d5301",
   "metadata": {},
   "source": [
    "# Ejemplo integrador 1"
   ]
  },
  {
   "cell_type": "code",
   "execution_count": 52,
   "id": "1adaa955",
   "metadata": {},
   "outputs": [
    {
     "name": "stdout",
     "output_type": "stream",
     "text": [
      "[('00', '-', '591', '-', '70222592'), ('00', '-', '591', '-', '73333030'), ('00', '-', '591', '-', '22222622')]\n"
     ]
    },
    {
     "name": "stderr",
     "output_type": "stream",
     "text": [
      "<>:2: SyntaxWarning: invalid escape sequence '\\d'\n",
      "<>:2: SyntaxWarning: invalid escape sequence '\\d'\n",
      "C:\\Users\\HP\\AppData\\Local\\Temp\\ipykernel_13404\\3624047247.py:2: SyntaxWarning: invalid escape sequence '\\d'\n",
      "  \"\"\" El patron va de la siguiente manera:,\n"
     ]
    }
   ],
   "source": [
    "texto=\"Mis telefonos son:  00-591-70222592, 00-591-73333030, 00-591-22222622 y 591-2222666\"\n",
    "\"\"\" El patron va de la siguiente manera:,\n",
    "(\\d\\d)? --> Los dos primeros digitos pueden repetirse 0 o 1 veces\n",
    "(-)? --> La primera barra media ouede retirse 0 o 1 veces\n",
    "(\\d\\d\\d)? --> El codigo de indicativo de pais puede reperiese 0 o 1 veces\n",
    "(-)+ --> La segunda barra media puede repeirse una o mas veces\n",
    "(\\d\\d\\d\\d\\d\\d\\d\\d) --> Se espera un numero de 8 digitos exactamente o tambien puede ser escrito asi:(\\d{8})\n",
    "\"\"\"\n",
    "patron = re.compile(r\"(\\d\\d)?(-)?(\\d\\d\\d)?(-)+(\\d{8})\")\n",
    "numero=patron.findall(texto) \n",
    "print(numero)"
   ]
  },
  {
   "cell_type": "markdown",
   "id": "ed2f4d7d",
   "metadata": {},
   "source": [
    "# Findall() con grupos "
   ]
  },
  {
   "cell_type": "code",
   "execution_count": 18,
   "id": "ff33a6c7",
   "metadata": {},
   "outputs": [
    {
     "name": "stdout",
     "output_type": "stream",
     "text": [
      "['00-591-70245377']\n"
     ]
    }
   ],
   "source": [
    "texto=\"El numero de telefono es 00-591-702453778732 y tambien es 00000000-55-666666666\"\n",
    "patron = re.compile(r\"\\d\\d-\\d\\d\\d-\\d\\d\\d\\d\\d\\d\\d\\d\")\n",
    "numero=patron.findall(texto) # findall sirbve para encontrara todas las coincidencias \n",
    "print(numero) # lass entrega en forma de lista"
   ]
  },
  {
   "cell_type": "code",
   "execution_count": 19,
   "id": "7514fe89",
   "metadata": {},
   "outputs": [
    {
     "name": "stdout",
     "output_type": "stream",
     "text": [
      "[('00', '591', '70723456')]\n"
     ]
    }
   ],
   "source": [
    "texto=\"El numero de telefono es 00-591-70723456692732 y tambien es 00-534591-703123456750610\"\n",
    "patron = re.compile(r\"(\\d\\d)-(\\d\\d\\d)-(\\d\\d\\d\\d\\d\\d\\d\\d)\")\n",
    "numero=patron.findall(texto) # findall sirbve para encontrara todas las coincidencias \n",
    "print(numero) # lass entrega en forma de lista"
   ]
  },
  {
   "cell_type": "code",
   "execution_count": 20,
   "id": "00174cbd",
   "metadata": {},
   "outputs": [
    {
     "name": "stdout",
     "output_type": "stream",
     "text": [
      "['591', '591']\n"
     ]
    }
   ],
   "source": [
    "#dará prrioridad a la busqueda del patron que se encuentra entre parenticis\n",
    "texto=\"El numero de telefono es 00-591-7072222292732 y tambien es 00-591-70222222350610\"\n",
    "patron = re.compile(r\"\\d\\d-(\\d\\d\\d)-\\d\\d\\d\\d\\d\\d\\d\\d\")\n",
    "numero=patron.findall(texto) # findall sirbve para encontrara todas las coincidencias \n",
    "print(numero) # lass entrega en forma de lista"
   ]
  },
  {
   "cell_type": "code",
   "execution_count": 21,
   "id": "1e87b9c8",
   "metadata": {},
   "outputs": [
    {
     "name": "stdout",
     "output_type": "stream",
     "text": [
      "[('00-591-70723456', '591'), ('00-591-70345678', '591')]\n"
     ]
    }
   ],
   "source": [
    "#Los paretencis determinana dos grupos en cada número, es poe eso que por número salen dos resultados\n",
    "texto=\"El numero de telefono es 00-591-70723456287652 y tambien es 00-591-70345678350610\"\n",
    "patron = re.compile(r\"(\\d\\d-(\\d\\d\\d)-\\d\\d\\d\\d\\d\\d\\d\\d)\")\n",
    "numero=patron.findall(texto) # findall sirbve para encontrara todas las coincidencias \n",
    "print(numero) # lass entrega en forma de lista"
   ]
  },
  {
   "cell_type": "markdown",
   "id": "75a35ee3",
   "metadata": {},
   "source": [
    "### Special Characters\n",
    "^ | Matches the expression to its right at the start of a string. It matches every such instance before each \\n in the string.\n",
    "\n",
    "$ | Matches the expression to its left at the end of a string. It matches every such instance before each \\n in the string.\n",
    "\n",
    ". | Matches any character except line terminators like \\n.\n",
    "\n",
    "\\ | Escapes special characters or denotes character classes.\n",
    "\n",
    "A|B | Matches expression A or B. If A is matched first, B is left untried.\n",
    "\n",
    "+ | Greedily matches the expression to its left 1 or more times.\n",
    "\n",
    "* | Greedily matches the expression to its left 0 or more times.\n",
    "\n",
    "? | Greedily matches the expression to its left 0 or 1 times. But if ? is added to qualifiers (+, *, and ? itself) it will perform matches in a non-greedy manner.\n",
    "\n",
    "{m} | Matches the expression to its left m times, and not less.\n",
    "\n",
    "{m,n} | Matches the expression to its left m to n times, and not less.\n",
    "\n",
    "{m,n}? | Matches the expression to its left m times, and ignores n. See ? above.\n",
    "\n"
   ]
  },
  {
   "cell_type": "markdown",
   "id": "06fc1aff",
   "metadata": {},
   "source": [
    "### Character Classes (a.k.a. Special Sequences)\n",
    "\\w | Matches alphanumeric characters, which means a-z, A-Z, and 0-9. It also matches the underscore, _.\n",
    "\n",
    "\\d | Matches digits, which means 0-9.\n",
    "\n",
    "\\D | Matches any non-digits.\n",
    "\n",
    "\\s | Matches whitespace characters, which include the \\t, \\n, \\r, and space characters.\n",
    "\n",
    "\\S | Matches non-whitespace characters.\n",
    "\n",
    "\\b | Matches the boundary (or empty string) at the start and end of a word, that is, between \\w and \\W.\n",
    "\n",
    "\\B | Matches where \\b does not, that is, the boundary of \\w characters.\n",
    "\n",
    "\\A | Matches the expression to its right at the absolute start of a string whether in single or multi-line mode.\n",
    "\n",
    "\\Z | Matches the expression to its left at the absolute end of a string whether in single or multi-line mode."
   ]
  },
  {
   "cell_type": "markdown",
   "id": "01d6ae80",
   "metadata": {},
   "source": [
    "### Sets\n",
    "[ ] | Contains a set of characters to match.\n",
    "\n",
    "[amk] | Matches either a, m, or k. It does not match amk.\n",
    "\n",
    "[a-z] | Matches any alphabet from a to z.\n",
    "\n",
    "[a\\-z] | Matches a, -, or z. It matches - because \\ escapes it.\n",
    "\n",
    "[a-] | Matches a or -, because - is not being used to indicate a series of characters.\n",
    "\n",
    "[-a] | As above, matches a or -.\n",
    "\n",
    "[a-z0-9] | Matches characters from a to z and also from 0 to 9.\n",
    "\n",
    "[(+*)] | Special characters become literal inside a set, so this matches (, +, *, and ).\n",
    "\n",
    "[^ab5] | Adding ^ excludes any character in the set. Here, it matches characters that are not a, b, or 5"
   ]
  },
  {
   "cell_type": "markdown",
   "id": "c7f4e4f3",
   "metadata": {},
   "source": [
    "### Groups\n",
    "( ) | Matches the expression inside the parentheses and groups it.\n",
    "\n",
    "(? ) | Inside parentheses like this, ? acts as an extension notation. Its meaning depends on the character immediately to its right.\n",
    "\n",
    "(?PAB) | Matches the expression AB, and it can be accessed with the group name.\n",
    "\n",
    "(?aiLmsux) | Here, a, i, L, m, s, u, and x are flags:\n",
    "\n",
    "a — Matches ASCII only\n",
    "i — Ignore case\n",
    "L — Locale dependent\n",
    "m — Multi-line\n",
    "s — Matches all\n",
    "u — Matches unicode\n",
    "x — Verbose\n",
    "(?:A) | Matches the expression as represented by A, but unlike (?PAB), it cannot be retrieved afterwards.\n",
    "\n",
    "(?#...) | A comment. Contents are for us to read, not for matching.\n",
    "\n",
    "A(?=B) | Lookahead assertion. This matches the expression A only if it is followed by B.\n",
    "\n",
    "A(?!B) | Negative lookahead assertion. This matches the expression A only if it is not followed by B.\n",
    "\n",
    "(?<=B)A | Positive lookbehind assertion. This matches the expression A only if B is immediately to its left. This can only matched fixed length expressions.\n",
    "\n",
    "(?<!B)A | Negative lookbehind assertion. This matches the expression A only if B is not immediately to its left. This can only matched fixed length expressions.\n",
    "\n",
    "(?P=name) | Matches the expression matched by an earlier group named “name”.\n",
    "\n",
    "(...)\\1 | The number 1 corresponds to the first group to be matched. If we want to match more instances of the same expresion, simply use its number instead of writing out the whole expression again. We can use from 1 up to 99 such groups and their corresponding numbers."
   ]
  },
  {
   "cell_type": "markdown",
   "id": "b4c52e6e",
   "metadata": {},
   "source": [
    "### Popular Python re Module Functions\n",
    "re.findall(A, B) | Matches all instances of an expression A in a string B and returns them in a list.\n",
    "\n",
    "re.search(A, B) | Matches the first instance of an expression A in a string B, and returns it as a re match object.\n",
    "\n",
    "re.split(A, B) | Split a string B into a list using the delimiter A.\n",
    "\n",
    "re.sub(A, B, C) | Replace A with B in the string C."
   ]
  },
  {
   "cell_type": "markdown",
   "id": "0858daed",
   "metadata": {},
   "source": [
    "# Ejemplo 2"
   ]
  },
  {
   "cell_type": "code",
   "execution_count": 22,
   "id": "a947e6f3",
   "metadata": {},
   "outputs": [
    {
     "name": "stdout",
     "output_type": "stream",
     "text": [
      "['12 drummers', '11 pipers']\n"
     ]
    },
    {
     "name": "stderr",
     "output_type": "stream",
     "text": [
      "<>:1: SyntaxWarning: invalid escape sequence '\\d'\n",
      "<>:1: SyntaxWarning: invalid escape sequence '\\d'\n",
      "C:\\Users\\HP\\AppData\\Local\\Temp\\ipykernel_13404\\238763677.py:1: SyntaxWarning: invalid escape sequence '\\d'\n",
      "  \"\"\"\n"
     ]
    }
   ],
   "source": [
    "\"\"\"\n",
    "\\d+ -> Significa un digito o mas\n",
    "\\s -> Sigbifica un espacio\n",
    "\\w+ -> Significa una letra o mas\n",
    "\"\"\"\n",
    "\n",
    "import re\n",
    "texto= \"12 drummers drumning, 11 pipers piping....\"\n",
    "patron = re.compile(r\"\\d+\\s\\w+\")\n",
    "numero=patron.findall(texto) \n",
    "print(numero)"
   ]
  },
  {
   "cell_type": "markdown",
   "id": "881d3529",
   "metadata": {},
   "source": [
    "# [aeiou] Caracter clases muestra las vocales utilizadas en el texto"
   ]
  },
  {
   "cell_type": "code",
   "execution_count": 23,
   "id": "885d3907",
   "metadata": {},
   "outputs": [
    {
     "name": "stdout",
     "output_type": "stream",
     "text": [
      "['u', 'e', 'u', 'i', 'i', 'e', 'i', 'i']\n"
     ]
    }
   ],
   "source": [
    "import re\n",
    "texto= \"12 drummers drumning, 11 pipers piping....\"\n",
    "patron = re.compile(r\"[aeiou]\")\n",
    "numero=patron.findall(texto) \n",
    "print(numero)"
   ]
  },
  {
   "cell_type": "markdown",
   "id": "bad3fee3",
   "metadata": {},
   "source": [
    "# [a|b|c|d|...|zw] es igual \\w"
   ]
  },
  {
   "cell_type": "code",
   "execution_count": 24,
   "id": "d396bb2f",
   "metadata": {},
   "outputs": [
    {
     "name": "stdout",
     "output_type": "stream",
     "text": [
      "['1', '2', 'd', 'r', 'u', 'm', 'm', 'e', 'r', 's', 'd', 'r', 'u', 'm', 'n', 'i', 'n', 'g', '1', '1', 'p', 'i', 'p', 'e', 'r', 's', 'p', 'i', 'p', 'i', 'n', 'g']\n"
     ]
    }
   ],
   "source": [
    "#ojo que \\w tambien toma en cuenta números\n",
    "import re\n",
    "texto= \"12 drummers drumning, 11 pipers piping....\"\n",
    "patron = re.compile(r\"\\w\")\n",
    "numero=patron.findall(texto) \n",
    "print(numero)"
   ]
  },
  {
   "cell_type": "markdown",
   "id": "9f3ca901",
   "metadata": {},
   "source": [
    "# [1|2|3|4|5|6|78|9] es igual a [1-9] que es igual a \\d"
   ]
  },
  {
   "cell_type": "code",
   "execution_count": 25,
   "id": "73f6954d",
   "metadata": {},
   "outputs": [
    {
     "name": "stdout",
     "output_type": "stream",
     "text": [
      "['1', '2', '1', '1']\n"
     ]
    }
   ],
   "source": [
    "import re\n",
    "texto= \"12 drummers drumning, 11 pipers piping....\"\n",
    "patron = re.compile(r\"[1|2|3|4|5|6|7|8|9]\")\n",
    "numero=patron.findall(texto) \n",
    "print(numero)"
   ]
  },
  {
   "cell_type": "code",
   "execution_count": 26,
   "id": "292469ec",
   "metadata": {},
   "outputs": [
    {
     "name": "stdout",
     "output_type": "stream",
     "text": [
      "['1', '2', '1', '1']\n"
     ]
    }
   ],
   "source": [
    "import re\n",
    "texto= \"12 drummers drumning, 11 pipers piping....\"\n",
    "patron = re.compile(r\"[1-9]\")\n",
    "numero=patron.findall(texto) \n",
    "print(numero)"
   ]
  },
  {
   "cell_type": "code",
   "execution_count": 27,
   "id": "4219021f",
   "metadata": {},
   "outputs": [
    {
     "name": "stdout",
     "output_type": "stream",
     "text": [
      "['1', '2', '1', '1']\n"
     ]
    }
   ],
   "source": [
    "import re\n",
    "texto= \"12 drummers drumning, 11 pipers piping....\"\n",
    "patron = re.compile(r\"\\d\")\n",
    "numero=patron.findall(texto) \n",
    "print(numero)"
   ]
  },
  {
   "cell_type": "markdown",
   "id": "2720babd",
   "metadata": {},
   "source": [
    "# [^aeiou] Significa todo lo que NO sea vocales, debe estar entre [ ]"
   ]
  },
  {
   "cell_type": "code",
   "execution_count": 28,
   "id": "f6216a33",
   "metadata": {},
   "outputs": [
    {
     "name": "stdout",
     "output_type": "stream",
     "text": [
      "['H', 'l', 'l', ' ', 'd', 'r', 's', ' ', '1', '2', ' ', 'd', 'r', 'm', 'm', 'r', 's', ' ', 'd', 'r', 'm', 'n', 'n', 'g', ',', ' ', '1', '1', ' ', 'p', 'p', 'r', 's', ' ', 'p', 'p', 'n', 'g', '.', '.', '.', '.']\n"
     ]
    }
   ],
   "source": [
    "import re\n",
    "texto= \"Hello dears 12 drummers drumning, 11 pipers piping....\"\n",
    "patron = re.compile(r\"[^aeiou]\")\n",
    "numero=patron.findall(texto) \n",
    "print(numero)"
   ]
  },
  {
   "cell_type": "markdown",
   "id": "24f91a7b",
   "metadata": {},
   "source": [
    " # (^)-> Significa que la frase empieza con la palabra que está a contunación del signo"
   ]
  },
  {
   "cell_type": "code",
   "execution_count": 29,
   "id": "8cf711f2",
   "metadata": {},
   "outputs": [
    {
     "name": "stdout",
     "output_type": "stream",
     "text": [
      "['hello']\n"
     ]
    }
   ],
   "source": [
    "import re\n",
    "texto= \"hello dears12 drummers drumning, 11 pipers piping....\"\n",
    "patron = re.compile(r\"^hello\")\n",
    "numero=patron.findall(texto) \n",
    "print(numero)"
   ]
  },
  {
   "cell_type": "code",
   "execution_count": 30,
   "id": "904ea913",
   "metadata": {},
   "outputs": [
    {
     "name": "stdout",
     "output_type": "stream",
     "text": [
      "[]\n"
     ]
    }
   ],
   "source": [
    "import re\n",
    "texto= \"aqui hello no esta en el principio dela frase, hello dears12 drummers drumning, 11 pipers piping....\"\n",
    "patron = re.compile(r\"^hello\")\n",
    "numero=patron.findall(texto) \n",
    "print(numero)"
   ]
  },
  {
   "cell_type": "markdown",
   "id": "4d0b1c93",
   "metadata": {},
   "source": [
    "# (Dolar)-> Significa que la frase debe terminar con la palabra, el signo de dolar debe ponerse al final de la palabra buscada"
   ]
  },
  {
   "cell_type": "code",
   "execution_count": 31,
   "id": "9f0d2684",
   "metadata": {},
   "outputs": [
    {
     "name": "stdout",
     "output_type": "stream",
     "text": [
      "['piping']\n"
     ]
    }
   ],
   "source": [
    "import re\n",
    "texto= \"aqui hello no esta en el principio dela frase, hello dears12 drummers drumning, 11 pipers piping\"\n",
    "patron = re.compile(r\"piping$\")\n",
    "numero=patron.findall(texto)\n",
    "print(numero)"
   ]
  },
  {
   "cell_type": "code",
   "execution_count": 32,
   "id": "d358e5e3",
   "metadata": {},
   "outputs": [
    {
     "name": "stdout",
     "output_type": "stream",
     "text": [
      "piping\n"
     ]
    }
   ],
   "source": [
    "import re\n",
    "texto= \"aqui hello no esta en el principio dela frase, hello dears12 drummers drumning, 11 pipers piping\"\n",
    "patron = re.compile(r\"piping$\")\n",
    "numero=patron.search(texto)\n",
    "print(numero.group())"
   ]
  },
  {
   "cell_type": "code",
   "execution_count": 33,
   "id": "39ffb16e",
   "metadata": {},
   "outputs": [
    {
     "name": "stdout",
     "output_type": "stream",
     "text": [
      "['piping']\n"
     ]
    }
   ],
   "source": [
    "import re\n",
    "texto= \"piping\"\n",
    "patron = re.compile(r\"^piping$\")# s^i se combina \"^\" con \"$\", se especifica una que la frase contenga una sola palbra\n",
    "numero=patron.findall(texto)\n",
    "print(numero)"
   ]
  },
  {
   "cell_type": "markdown",
   "id": "297338a3",
   "metadata": {},
   "source": [
    "# El caracter ( . ) -> Sigifica cualquier caracter excepto salto de linea"
   ]
  },
  {
   "cell_type": "code",
   "execution_count": 34,
   "id": "ac96a7d4",
   "metadata": {},
   "outputs": [
    {
     "name": "stdout",
     "output_type": "stream",
     "text": [
      "['pio']\n"
     ]
    }
   ],
   "source": [
    "import re\n",
    "texto= \"aqui hello no esta en el principio dela frase, hello dears12 drummers drumning, 11 pipers piping\"\n",
    "patron = re.compile(r\".io\")\n",
    "numero=patron.findall(texto)\n",
    "print(numero)"
   ]
  },
  {
   "cell_type": "code",
   "execution_count": 35,
   "id": "dc3b9452",
   "metadata": {},
   "outputs": [
    {
     "name": "stdout",
     "output_type": "stream",
     "text": [
      "['esta']\n"
     ]
    }
   ],
   "source": [
    "import re\n",
    "texto= \"aqui hello no esta en el principio dela frase, hello dears12 drummers drumning, 11 pipers piping\"\n",
    "patron = re.compile(r\"..ta\")\n",
    "numero=patron.findall(texto)\n",
    "print(numero)"
   ]
  },
  {
   "cell_type": "code",
   "execution_count": 36,
   "id": "56478415",
   "metadata": {},
   "outputs": [
    {
     "name": "stdout",
     "output_type": "stream",
     "text": [
      "['principio']\n"
     ]
    }
   ],
   "source": [
    "import re\n",
    "texto= \"aqui hello no esta en el principio dela frase, hello dears12 drummers drumning, 11 pipers piping\"\n",
    "patron = re.compile(r\".{7}io\")\n",
    "numero=patron.findall(texto)\n",
    "print(numero)"
   ]
  },
  {
   "cell_type": "markdown",
   "id": "8f1dc727",
   "metadata": {},
   "source": [
    "# (.*)-> Significa buscar todo lo que este antes (o despues) de  palabara  o cadena señalada, segun que se ponga antes (o despues) de la cadena señalada "
   ]
  },
  {
   "cell_type": "code",
   "execution_count": 37,
   "id": "4296b8d2",
   "metadata": {},
   "outputs": [
    {
     "name": "stdout",
     "output_type": "stream",
     "text": [
      "['aqui hello ']\n"
     ]
    }
   ],
   "source": [
    "import re\n",
    "texto= \"aqui hello no esta en el principio dela frase, hello dears12 drummers drumning, 11 pipers piping\"\n",
    "patron = re.compile(r\"(.*)no\")\n",
    "numero=patron.findall(texto)\n",
    "print(numero)"
   ]
  },
  {
   "cell_type": "code",
   "execution_count": 38,
   "id": "cf8b8e71",
   "metadata": {},
   "outputs": [
    {
     "name": "stdout",
     "output_type": "stream",
     "text": [
      "['aqui hello no esta en el principio dela frase, hello dears']\n"
     ]
    }
   ],
   "source": [
    "import re\n",
    "texto= \"aqui hello no esta en el principio dela frase, hello dears12 drummers drumning, 11 pipers piping\"\n",
    "patron = re.compile(r\"(.*)12\")# Aqui se púso antes del 12, por lo que devolverá todo lo que este antes del 12\n",
    "numero=patron.findall(texto)\n",
    "print(numero)"
   ]
  },
  {
   "cell_type": "code",
   "execution_count": 39,
   "id": "73da9fce",
   "metadata": {},
   "outputs": [
    {
     "name": "stdout",
     "output_type": "stream",
     "text": [
      "[' drummers drumning, 11 pipers piping']\n"
     ]
    }
   ],
   "source": [
    "import re\n",
    "texto= \"aqui hello no esta en el principio dela frase, hello dears12 drummers drumning, 11 pipers piping\"\n",
    "patron = re.compile(r\"12(.*)\") # Aqui se púso despues dl 12, por lo que devolverá todo lo que ste despues del 12\n",
    "numero=patron.findall(texto)\n",
    "print(numero)"
   ]
  },
  {
   "cell_type": "code",
   "execution_count": 40,
   "id": "77be518e",
   "metadata": {},
   "outputs": [
    {
     "name": "stdout",
     "output_type": "stream",
     "text": [
      "[' drummers drumning, ']\n"
     ]
    }
   ],
   "source": [
    "import re\n",
    "texto= \"aqui hello no esta en el principio dela frase, hello dears12 drummers drumning, 11 pipers piping\"\n",
    "patron = re.compile(r\"12(.*)11\") # Aqui se púso despues dl 12, y antes del 11, por lo que devolverá todo lo que este entre esas dos cadenas de text\n",
    "numero=patron.findall(texto)\n",
    "print(numero)"
   ]
  },
  {
   "cell_type": "markdown",
   "id": "ff624848",
   "metadata": {},
   "source": [
    "# Ejemplo integrador"
   ]
  },
  {
   "cell_type": "code",
   "execution_count": 41,
   "id": "3207070b",
   "metadata": {},
   "outputs": [
    {
     "name": "stdout",
     "output_type": "stream",
     "text": [
      "[]\n"
     ]
    }
   ],
   "source": [
    "import re\n",
    "texto= \"aqui hello no esta en el principio dela frase, 12345666789 hello dears12 drummers drumning, 11 pipers piping\"\n",
    "patron = re.compile(r\"^\\d+$\") #Significa que busque fraces que empiezan con digito, que los digitos pueden reprtirse una o mas veces y que termine en digitos\n",
    "numero=patron.findall(texto)\n",
    "print(numero)"
   ]
  },
  {
   "cell_type": "code",
   "execution_count": 42,
   "id": "5ffa2c65",
   "metadata": {},
   "outputs": [
    {
     "name": "stdout",
     "output_type": "stream",
     "text": [
      "['12345666789']\n"
     ]
    }
   ],
   "source": [
    "import re\n",
    "texto= \"12345666789\"\n",
    "patron = re.compile(r\"^\\d+$\") #Significa que busque fraces que empiezan con digito, que sean digitos y que los digitos pueden reprtirse una o mas veces y que termine en digitos\n",
    "numero=patron.findall(texto)\n",
    "print(numero)"
   ]
  },
  {
   "cell_type": "code",
   "execution_count": 43,
   "id": "46607a87",
   "metadata": {},
   "outputs": [
    {
     "name": "stdout",
     "output_type": "stream",
     "text": [
      "[]\n"
     ]
    }
   ],
   "source": [
    "import re\n",
    "texto= \"123 aqui hello no esta en el principio dela frase, 12345666789 hello dears12 drummers drumning, 11 pipers piping 123\"\n",
    "patron = re.compile(r\"^\\d+$\") #Significa que busque fraces que empiezan con digito, que contenga digitos una o mas veces y que termine en digitos\n",
    "numero=patron.findall(texto)\n",
    "print(numero)"
   ]
  },
  {
   "cell_type": "markdown",
   "id": "01d4e659",
   "metadata": {},
   "source": [
    "# SUB() Substitut method"
   ]
  },
  {
   "cell_type": "code",
   "execution_count": 44,
   "id": "35228f9a",
   "metadata": {},
   "outputs": [
    {
     "name": "stdout",
     "output_type": "stream",
     "text": [
      "aqui xello no esta en el principio dela frase, 12345666789 xello dears12 drummers drumning, 11 pipers piping\n"
     ]
    }
   ],
   "source": [
    "import re\n",
    "texto = \"aqui hello no esta en el principio dela frase, 12345666789 hello dears12 drummers drumning, 11 pipers piping\"\n",
    "#patron = re.compile(r\"aqui \\w*\") \n",
    "texto2 = re.sub(\"h\",\"x\",texto)# Significa\"donde se encuentre h, sustituir por x en \"Texto\"\n",
    "#numero=patron.findall(texto)\n",
    "\n",
    "print(texto2)"
   ]
  },
  {
   "cell_type": "code",
   "execution_count": 45,
   "id": "b0f3bcce",
   "metadata": {},
   "outputs": [
    {
     "name": "stdout",
     "output_type": "stream",
     "text": [
      "aqui hello no esta en el principio dela frase, NUMEROS hello dears12 drummers drumning, 11 pipers piping\n"
     ]
    }
   ],
   "source": [
    "import re\n",
    "texto = \"aqui hello no esta en el principio dela frase, 123456789 hello dears12 drummers drumning, 11 pipers piping\"\n",
    "#patron = re.compile(r\"d{9}\") \n",
    "texto2 = re.sub(\"123456789\",\"NUMEROS\",texto)# Significa\"donde se encuentre h, sustituir por x en \"Texto\"\n",
    "\n",
    "\n",
    "print(texto2)"
   ]
  },
  {
   "cell_type": "code",
   "execution_count": 46,
   "id": "f7051ecd",
   "metadata": {},
   "outputs": [
    {
     "name": "stdout",
     "output_type": "stream",
     "text": [
      "aqui hello no esta en el principio de la frase, NUMEROS hello dears12 drummers drumning, 11 pipers piping\n"
     ]
    }
   ],
   "source": [
    "import re\n",
    "texto = \"aqui hello no esta en el principio de la frase, 123456789 hello dears12 drummers drumning, 11 pipers piping\"\n",
    "patron = re.compile(r\"\\d{9}\") \n",
    "texto2 = re.sub(patron,\"NUMEROS\",texto) #Significa\"donde se encuentre 9 digitos, sustituir por NUMEROS en \"Texto\"\n",
    "print(texto2)"
   ]
  },
  {
   "cell_type": "code",
   "execution_count": 47,
   "id": "c6e4c37c",
   "metadata": {},
   "outputs": [
    {
     "name": "stdout",
     "output_type": "stream",
     "text": [
      "agent **** meet agent ****\n"
     ]
    }
   ],
   "source": [
    "import re # este teoca revisar..su logica\n",
    "texto = \"agent madi meet agent daddy\"\n",
    "patron = re.compile(r\"agent (\\w*)\")\n",
    "numero = patron.findall(texto)\n",
    "texto2 = patron.sub(r\"agent ****\",\"agent madi meet agent daddy\") #Significa\"donde se encuentre 9 digitos, sustituir por NUMEROS en \"Texto\"\n",
    "print(texto2)"
   ]
  },
  {
   "cell_type": "markdown",
   "id": "af191a26",
   "metadata": {},
   "source": [
    "# .RE Casos de uso"
   ]
  },
  {
   "cell_type": "code",
   "execution_count": 48,
   "id": "a5e84a92",
   "metadata": {},
   "outputs": [
    {
     "name": "stdout",
     "output_type": "stream",
     "text": [
      "['A', 'u', 'i', 'e', 'o', 'o', 'e', 'a', 'e', 'e', 'i', 'i', 'i', 'o', 'e', 'a', 'a', 'e', 'e', 'o', 'e', 'a', 'u', 'e', 'u', 'i', 'i', 'e', 'i', 'i']\n"
     ]
    }
   ],
   "source": [
    "import re\n",
    "texto= \"123 Aqui hello no esta en el principio de la frase, 12345666789 hello dears12 drummers drumning, 11 pipers piping 123\"\n",
    "patron = re.compile(r\"[aeiou]\",re.I) #significa IGNORE y es para ignorar el hecgo de ser \"case sensitive\"\n",
    "numero=patron.findall(texto)\n",
    "print(numero)"
   ]
  },
  {
   "cell_type": "code",
   "execution_count": null,
   "id": "45cfb651",
   "metadata": {},
   "outputs": [],
   "source": []
  }
 ],
 "metadata": {
  "kernelspec": {
   "display_name": "Python 3",
   "language": "python",
   "name": "python3"
  },
  "language_info": {
   "codemirror_mode": {
    "name": "ipython",
    "version": 3
   },
   "file_extension": ".py",
   "mimetype": "text/x-python",
   "name": "python",
   "nbconvert_exporter": "python",
   "pygments_lexer": "ipython3",
   "version": "3.12.1"
  }
 },
 "nbformat": 4,
 "nbformat_minor": 5
}
